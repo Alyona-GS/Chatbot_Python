{
  "nbformat": 4,
  "nbformat_minor": 0,
  "metadata": {
    "colab": {
      "name": "Копия блокнота \"ChatBot - Day 2.ipynb\"",
      "provenance": [],
      "collapsed_sections": [],
      "include_colab_link": true
    },
    "kernelspec": {
      "name": "python3",
      "display_name": "Python 3"
    },
    "language_info": {
      "name": "python"
    }
  },
  "cells": [
    {
      "cell_type": "markdown",
      "metadata": {
        "id": "view-in-github",
        "colab_type": "text"
      },
      "source": [
        "<a href=\"https://colab.research.google.com/github/Alyona-GS/Chatbot_Python/blob/main/ChatBot_Machine_Learning.ipynb\" target=\"_parent\"><img src=\"https://colab.research.google.com/assets/colab-badge.svg\" alt=\"Open In Colab\"/></a>"
      ]
    },
    {
      "cell_type": "code",
      "metadata": {
        "id": "IXQzLwUBCa5C"
      },
      "source": [
        "import random\n",
        "import nltk\n",
        "import json\n",
        "import sklearn\n",
        "from sklearn.ensemble import RandomForestClassifier"
      ],
      "execution_count": 74,
      "outputs": []
    },
    {
      "cell_type": "code",
      "metadata": {
        "id": "noc_vgr_9pnS"
      },
      "source": [
        "with open('/content/BOT_CONFIG.json', 'r') as f:\n",
        "  BOT_CONFIG = json.load(f)\n",
        "\n",
        "# with open('/content/BOT_CONFIG.json', 'w') as f:\n",
        "#    json.dump(BOT_CONFIG, f)"
      ],
      "execution_count": 75,
      "outputs": []
    },
    {
      "cell_type": "code",
      "metadata": {
        "id": "qklfHyQeJ31M"
      },
      "source": [
        "def clean(text):\n",
        "  clean_text = ''\n",
        "  for char in text.lower():\n",
        "    if char in 'абвгдеёжзийклмнопрстуфхцчшщъыьэюя':\n",
        "      clean_text = clean_text + char\n",
        "  return clean_text\n",
        "\n",
        "def get_intent(text):\n",
        "  for intent in BOT_CONFIG['intents'].keys():\n",
        "    for example in BOT_CONFIG['intents'][intent]['examples']:\n",
        "      s1 = clean(text)\n",
        "      s2 = clean(example)\n",
        "      if nltk.edit_distance(s1, s2) / max(len(s1), len(s2)) < 0.4:\n",
        "        return intent\n",
        "  return 'intent not found :('\n",
        "\n",
        "def get_intent_by_model(text):\n",
        "  return clf.predict(vectorizer.transform([text]))[0]"
      ],
      "execution_count": 76,
      "outputs": []
    },
    {
      "cell_type": "code",
      "metadata": {
        "id": "oEHxX42oAlyN"
      },
      "source": [
        "corpus = []\n",
        "y = []\n",
        "for intent in BOT_CONFIG['intents'].keys():\n",
        "  for example in BOT_CONFIG['intents'][intent]['examples']:\n",
        "    corpus.append(example)\n",
        "    y.append(intent)\n",
        "\n",
        "corpus_train, corpus_test, y_train, y_test = sklearn.model_selection.train_test_split(corpus, y, test_size=0.2)"
      ],
      "execution_count": 77,
      "outputs": []
    },
    {
      "cell_type": "code",
      "metadata": {
        "id": "FpQrhv7eA83Y"
      },
      "source": [
        "# vectorizer = sklearn.feature_extraction.text.CountVectorizer(ngram_range=(2,4), analyzer='char_wb')\n",
        "vectorizer = sklearn.feature_extraction.text.TfidfVectorizer(ngram_range=(2,4), analyzer='char_wb')\n",
        "X_train = vectorizer.fit_transform(corpus_train)\n",
        "X_test = vectorizer.transform(corpus_test)"
      ],
      "execution_count": 78,
      "outputs": []
    },
    {
      "cell_type": "code",
      "metadata": {
        "colab": {
          "base_uri": "https://localhost:8080/"
        },
        "id": "QHl2Gy_tB6Rh",
        "outputId": "ac2ea1a7-c776-41bb-c9c3-9897ef80dbfb"
      },
      "source": [
        "# clf = sklearn.linear_model.LogisticRegression(C=5, max_iter=200)\n",
        "clf = sklearn.ensemble.RandomForestClassifier(random_state=1)\n",
        "clf.fit(X_train, y_train)"
      ],
      "execution_count": 79,
      "outputs": [
        {
          "output_type": "execute_result",
          "data": {
            "text/plain": [
              "RandomForestClassifier(random_state=1)"
            ]
          },
          "metadata": {},
          "execution_count": 79
        }
      ]
    },
    {
      "cell_type": "code",
      "metadata": {
        "colab": {
          "base_uri": "https://localhost:8080/"
        },
        "id": "_g0lMjM3LDc3",
        "outputId": "91ceb5c2-0fc9-4ba2-c7c7-b3d4d67d7372"
      },
      "source": [
        "clf.score(X_test, y_test)"
      ],
      "execution_count": 80,
      "outputs": [
        {
          "output_type": "execute_result",
          "data": {
            "text/plain": [
              "0.22424242424242424"
            ]
          },
          "metadata": {},
          "execution_count": 80
        }
      ]
    },
    {
      "cell_type": "code",
      "metadata": {
        "id": "9eADTbuDB3x9"
      },
      "source": [
        "def bot(text):\n",
        "  intent = get_intent_by_model(text)\n",
        "  if intent != 'intent not found :(':\n",
        "    print(random.choice(BOT_CONFIG['intents'][intent]['responses']))\n",
        "  else:\n",
        "    print('intent not found :(')"
      ],
      "execution_count": 81,
      "outputs": []
    },
    {
      "cell_type": "code",
      "metadata": {
        "colab": {
          "base_uri": "https://localhost:8080/"
        },
        "id": "pYJXunWHCgsE",
        "outputId": "5b5b81f2-8294-479a-9f10-65e3ba220e06"
      },
      "source": [
        "input_text = ''\n",
        "while input_text != 'стоп':\n",
        "  input_text = input()\n",
        "  bot(input_text)"
      ],
      "execution_count": 73,
      "outputs": [
        {
          "output_type": "stream",
          "name": "stdout",
          "text": [
            "стоп\n",
            "не помню,у вас есть река?\n"
          ]
        }
      ]
    }
  ]
}