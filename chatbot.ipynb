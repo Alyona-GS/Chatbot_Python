{
  "nbformat": 4,
  "nbformat_minor": 0,
  "metadata": {
    "colab": {
      "name": "Untitled5.ipynb",
      "provenance": [],
      "authorship_tag": "ABX9TyNc0C8NbkqIfi3lPN20KZ19",
      "include_colab_link": true
    },
    "kernelspec": {
      "name": "python3",
      "display_name": "Python 3"
    },
    "language_info": {
      "name": "python"
    }
  },
  "cells": [
    {
      "cell_type": "markdown",
      "metadata": {
        "id": "view-in-github",
        "colab_type": "text"
      },
      "source": [
        "<a href=\"https://colab.research.google.com/github/Alyona-GS/Chatbot_Python/blob/main/chatbot.ipynb\" target=\"_parent\"><img src=\"https://colab.research.google.com/assets/colab-badge.svg\" alt=\"Open In Colab\"/></a>"
      ]
    },
    {
      "cell_type": "code",
      "metadata": {
        "id": "AMM1b5lX-Bfi"
      },
      "source": [
        "import random\n",
        "import nltk"
      ],
      "execution_count": 2,
      "outputs": []
    },
    {
      "cell_type": "code",
      "metadata": {
        "id": "AguB_3zr_NR_"
      },
      "source": [
        "BOT_CONFIG = {\n",
        "    'intents': {\n",
        "        'hello': {\n",
        "            'examples': ['Привет', 'хай', 'добрый день', 'Здарова'],\n",
        "            'responses': ['хай', 'Здравствуйте', 'Доброе утро!', 'Я пошел...']\n",
        "        },\n",
        "        'bye': {\n",
        "            'examples': ['Пока', 'увидимся', 'счастливо', 'Бай'],\n",
        "            'responses': ['до свиданья', 'до скорых встреч', 'Спокойной ночи)', 'Туц,туц,туц,туц...']\n",
        "        },\n",
        "        'howdoyoudo': {\n",
        "            'examples': ['Как дела?', 'Как жизнь?', 'Как ты?', 'Что новенького?'],\n",
        "            'responses': ['Неплохо!', 'Отлично!!', 'Ужасно(((', 'Уноси готовенького... ляляля']\n",
        "        },\n",
        "        'weather': {\n",
        "            'examples': ['Какая погода?', 'Хорошо на улице', 'Что мне одеть?', 'Как там?'],\n",
        "            'responses': ['дождит', 'ветрено', 'на улице жарко', 'холодно на улице']\n",
        "        },\n",
        "        'whattodo': {\n",
        "            'examples': ['Что мне делать?', 'Делать нечего', 'Ничего не понятно', 'Я запутался'],\n",
        "            'responses': ['Изучай Python', 'Учи Mashine Learning', 'Изучай матчасть', 'Физика всех спасет']\n",
        "        },\n",
        "        'letstalk': {\n",
        "            'examples': ['Давай поговорим', 'Поболтаем?', 'Потусим?', 'Go talk'],\n",
        "            'responses': ['Давай', 'С кем? О чем?', 'Учи Python', 'А?']\n",
        "        },\n",
        "        'answers': {\n",
        "            'examples': ['Надоело', 'Пора заканчивать', 'Ты не логичен', 'Ужасный бот'],\n",
        "            'responses': ['Как?', 'Почему?', 'Учи Python', 'Что случилось?']\n",
        "        },\n",
        "        'questions': {\n",
        "            'examples': ['Почему?', 'Как?', 'Что случилось?', 'Аргх', 'Куда?', 'При чем тут это?', 'И что?'],\n",
        "            'responses': ['Я плохой бот', 'Я не знаю Python', 'Я не хочу отвечать', 'Не спрашивай']\n",
        "        }\n",
        "    }\n",
        "}"
      ],
      "execution_count": 28,
      "outputs": []
    },
    {
      "cell_type": "code",
      "metadata": {
        "id": "rC4YcuNDG-mT"
      },
      "source": [
        "def clean(text):\n",
        "  clean_text = ''\n",
        "  for char in text.lower():\n",
        "    if char in 'абвгдеёжзийклмнопрстуфхцчшщъыьэюя':\n",
        "      clean_text += char\n",
        "  return clean_text\n",
        "\n",
        "def get_intent(text):\n",
        "  for intent in BOT_CONFIG['intents'].keys():\n",
        "    for example in BOT_CONFIG['intents'][intent]['examples']:\n",
        "      s1 = clean(text)\n",
        "      s2 = clean(example)\n",
        "      if nltk.edit_distance(s1, s2) / max(len(s1), len(s2)) < 0.3:\n",
        "        return intent\n",
        "  return 'intent not found :('"
      ],
      "execution_count": 31,
      "outputs": []
    },
    {
      "cell_type": "code",
      "metadata": {
        "id": "9eADTbuDB3x9"
      },
      "source": [
        "def bot(text):\n",
        "  intent = get_intent(text)\n",
        "  if intent != 'intent not found :(':\n",
        "    print(random.choice(BOT_CONFIG['intents'][intent]['responses']))\n",
        "  else:\n",
        "    print('intent not found :(')"
      ],
      "execution_count": 10,
      "outputs": []
    },
    {
      "cell_type": "code",
      "metadata": {
        "colab": {
          "base_uri": "https://localhost:8080/"
        },
        "id": "KcJFyXw9I3sZ",
        "outputId": "95375a4e-495a-4f4a-ab5f-92cf2bbf79d6"
      },
      "source": [
        "input_text = ''\n",
        "while input_text != 'стоп':\n",
        "  input_text = input()\n",
        "  bot(input_text)"
      ],
      "execution_count": null,
      "outputs": [
        {
          "output_type": "stream",
          "name": "stdout",
          "text": [
            "привет\n",
            "Доброе утро!\n",
            "пока\n",
            "до скорых встреч\n",
            "потусим\n",
            "А?\n",
            "потусим??\n",
            "С кем? О чем?\n",
            "аргх\n",
            "Я плохой бот\n",
            "да, весьма\n",
            "intent not found :(\n"
          ]
        }
      ]
    },
    {
      "cell_type": "code",
      "metadata": {
        "id": "izUjoqHSJGEO"
      },
      "source": [
        ""
      ],
      "execution_count": null,
      "outputs": []
    }
  ]
}